{
 "cells": [
  {
   "cell_type": "markdown",
   "metadata": {},
   "source": [
    "# Información de BCRP"
   ]
  },
  {
   "cell_type": "markdown",
   "metadata": {},
   "source": [
    "###### A continuación, vamos a extraer información del BCRP usando su api. Se realizará un proceso de automatización en el cual solo se tienen que elegir las variables que se desean obtener y seleccionar la fecha de interés a analizar."
   ]
  },
  {
   "cell_type": "code",
   "execution_count": 1,
   "metadata": {},
   "outputs": [],
   "source": [
    "# Códigos para actualizar el DashBoard Financiero\n",
    "\n",
    "# PD04650MD : Reservas internacionales netas\n",
    "# PD04692MD : Tasa de interés interbancaria S/.\n",
    "# PD31893DD : Rendimiento del Bono del gobierno peruano a 10 años (en S/)\n",
    "# PD31894DD : Rendimiento del Bono del gobierno peruano a 10 años (en US$)\n",
    "# PD04637PD : TC Interbancario (S/ por US$) - Compra\n",
    "# PD04638PD : TC Interbancario (S/ por US$) - Venta\n",
    "# PD38026MD : Índice General Bursátil BVL (índice)"
   ]
  },
  {
   "cell_type": "code",
   "execution_count": 2,
   "metadata": {},
   "outputs": [],
   "source": [
    "# Importamos las librerías necesarias para el trabajo\n",
    "import numpy as np\n",
    "import pandas as pd\n",
    "import datetime\n",
    "import matplotlib.pyplot as plt\n",
    "from pandas_datareader import data\n",
    "import requests"
   ]
  },
  {
   "cell_type": "code",
   "execution_count": 3,
   "metadata": {},
   "outputs": [],
   "source": [
    "# Elegimos la lista que deseamos trabajar\n",
    "# Dashboard financiero:\n",
    "lista=[\"PD04650MD\",\"PD04692MD\",\"PD31893DD\",\"PD31894DD\",\"PD04637PD\",\"PD04638PD\",\"PD38026MD\"] "
   ]
  },
  {
   "cell_type": "code",
   "execution_count": null,
   "metadata": {},
   "outputs": [],
   "source": [
    "# Este es un loop que me permite extraer todas las series de interés contenidas en \"lista\".\n",
    "# Creamos primero un contenedor para colocar las series extraídas\n",
    "d = {}\n",
    "\n",
    "for serie in lista: \n",
    "    # A continuación, colocamos los datos requeridos para el uso del api\n",
    "    formato = \"json\"\n",
    "    fecha_inicio = \"2020-10-01\"\n",
    "    fecha_fin = \"2022-11-03\"\n",
    "    url = \"https://estadisticas.bcrp.gob.pe/estadisticas/series/api/\"+serie+\"/\"+formato+\"/\"+fecha_inicio+\"/\"+fecha_fin+\"/\"\n",
    "    # Empezamos extrayendo la información en formato json   \n",
    "    periodos = requests.get(url).json().get(\"periods\")\n",
    "    # VALORES\n",
    "    dato = []\n",
    "    for i in periodos:\n",
    "        valores_list = i['values']\n",
    "        for w in valores_list:\n",
    "            w = float(w)\n",
    "            dato.append(w)\n",
    "            d[serie] = pd.DataFrame(dato)\n",
    "    # FECHAS\n",
    "    fechas = []\n",
    "    for i in periodos:\n",
    "        nombres = i['name']\n",
    "        fechas.append(nombres)\n",
    "        df_fechas = pd.DataFrame(fechas)"
   ]
  },
  {
   "cell_type": "code",
   "execution_count": null,
   "metadata": {},
   "outputs": [],
   "source": [
    "# EXPORTAR DATOS: Con este código juntaremos todas las variables extraídas.\n",
    "# Dashboard financiero\n",
    "data = pd.concat((df_fechas, d['PD04650MD'], d['PD04692MD'], d['PD31893DD'], d['PD31894DD'], d['PD04637PD'], d['PD04638PD'], d['PD38026MD']), axis=1, ignore_index=True)\n",
    "data.rename(columns = {0:'fecha', 1:'reservas_inter',2:'interbancaria',3:'bono_soles',4:'bono_dolares',5:'tc_compra',6:'tc_venta',7:'bvl'}, inplace = True)\n",
    "# Exportamos a excel\n",
    "data.to_excel('DB Financiero.xlsx', sheet_name='Monedas', na_rep='', float_format=None, columns=None, header=True, index=True, index_label=None, startrow=0, startcol=0, engine=None, merge_cells=True, inf_rep='inf', freeze_panes=None, storage_options=None)"
   ]
  }
 ],
 "metadata": {
  "kernelspec": {
   "display_name": "Python 3.9.12 ('base')",
   "language": "python",
   "name": "python3"
  },
  "language_info": {
   "codemirror_mode": {
    "name": "ipython",
    "version": 3
   },
   "file_extension": ".py",
   "mimetype": "text/x-python",
   "name": "python",
   "nbconvert_exporter": "python",
   "pygments_lexer": "ipython3",
   "version": "3.9.12"
  },
  "orig_nbformat": 4,
  "vscode": {
   "interpreter": {
    "hash": "e71b68cf128c73dede8b9274fb30f408286883fe1a9514ef1b06a8c5d248bb3a"
   }
  }
 },
 "nbformat": 4,
 "nbformat_minor": 2
}
