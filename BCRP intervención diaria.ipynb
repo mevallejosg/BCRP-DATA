{
 "cells": [
  {
   "cell_type": "markdown",
   "metadata": {},
   "source": [
    "# Información de BCRP "
   ]
  },
  {
   "cell_type": "markdown",
   "metadata": {},
   "source": [
    "###### A continuación, vamos a extraer información del BCRP usando su api. Se realizará un proceso de automatización en el cual solo se tienen que elegir las variables que se desean obtener y seleccionar la fecha de interés a analizar."
   ]
  },
  {
   "cell_type": "code",
   "execution_count": 1,
   "metadata": {},
   "outputs": [],
   "source": [
    "# Códigos para actualizar intervención cambiarias (Operaciones cambiarias del BCRP con las empresas bancarias (millones US$))\n",
    "\n",
    "# PD37515TD: Al Contado - Compras\n",
    "# PD37516TD: Al Contado - Ventas\n",
    "# PD37517TD: Certificados de Depósito Reajustables del BCRP - Emitido\n",
    "# PD37518TD: Certificados de Depósito Reajustables del BCRP - Vencido\n",
    "# PD37519TD: Certificados de Depósito Liquidables en Dólares - Emitido\n",
    "# PD37520TD: Certificados de Depósito Liquidables en Dólares - Vencido\n",
    "# PD37521TD: SWAP Cambiarios del BCRP Venta - Pactado\n",
    "# PD37522TD: SWAP Cambiarios del BCRP Venta - Vencido\n",
    "# PD37523TD: SWAP Cambiarios del BCRP Compra - Pactado\n",
    "# PD37524TD: SWAP Cambiarios del BCRP Compra - Vencido\n",
    "# PD37525TD: REPO Sustitución - Ventas Netas"
   ]
  },
  {
   "cell_type": "code",
   "execution_count": 5,
   "metadata": {},
   "outputs": [],
   "source": [
    "# Importamos las librerías necesarias para el trabajo\n",
    "import numpy as np\n",
    "import pandas as pd\n",
    "import datetime\n",
    "import matplotlib.pyplot as plt\n",
    "from pandas_datareader import data\n",
    "import requests"
   ]
  },
  {
   "cell_type": "code",
   "execution_count": 3,
   "metadata": {},
   "outputs": [],
   "source": [
    "# Intervención diaria BCRP\n",
    "lista=[\"PD37515TD\",\"PD37516TD\",\"PD37517TD\",\"PD37518TD\",\"PD37519TD\",\"PD37520TD\",\"PD37521TD\",\"PD37522TD\",\"PD37523TD\",\"PD37524TD\",\"PD37525TD\"]"
   ]
  },
  {
   "cell_type": "code",
   "execution_count": 6,
   "metadata": {},
   "outputs": [],
   "source": [
    "# Este es un loop que me permite extraer todas las series de interés contenidas en \"lista\".\n",
    "# Creamos primero un contenedor para colocar las series extraídas\n",
    "d = {}\n",
    "\n",
    "for serie in lista: \n",
    "    # A continuación, colocamos los datos requeridos para el uso del api\n",
    "    formato = \"json\"\n",
    "    fecha_inicio = \"2020-10-01\"\n",
    "    fecha_fin = \"2022-11-03\"\n",
    "    url = \"https://estadisticas.bcrp.gob.pe/estadisticas/series/api/\"+serie+\"/\"+formato+\"/\"+fecha_inicio+\"/\"+fecha_fin+\"/\"\n",
    "    # Empezamos extrayendo la información en formato json   \n",
    "    periodos = requests.get(url).json().get(\"periods\")\n",
    "    # VALORES\n",
    "    dato = []\n",
    "    for i in periodos:\n",
    "        valores_list = i['values']\n",
    "        for w in valores_list:\n",
    "            w = float(w)\n",
    "            dato.append(w)\n",
    "            d[serie] = pd.DataFrame(dato)\n",
    "    # FECHAS\n",
    "    fechas = []\n",
    "    for i in periodos:\n",
    "        nombres = i['name']\n",
    "        fechas.append(nombres)\n",
    "        df_fechas = pd.DataFrame(fechas)"
   ]
  },
  {
   "cell_type": "code",
   "execution_count": 7,
   "metadata": {},
   "outputs": [],
   "source": [
    "# EXPORTAR DATOS: Con este código juntaremos todas las variables extraídas.\n",
    "# Intervención diaria (Operaciones cambiarias del BCRP con las empresas bancarias (millones US$))\n",
    "data = pd.concat((df_fechas, d['PD37515TD'], d['PD37516TD'], d['PD37517TD'], d['PD37518TD'], d['PD37519TD'], d['PD37520TD'], d['PD37521TD'], d['PD37522TD'], d['PD37523TD'], d['PD37524TD'], d['PD37525TD']), axis=1, ignore_index=True)\n",
    "data.rename(columns = {0:'fecha', 1:'compras_contado',2:'ventas_contado',3:'deposito_reajus_emitido',4:'deposito_reajus_vencido',5:'deposito_liqu_emitido',6:'deposito_liqu_vencido',7:'swap_venta_pactado',8:'swap_venta_vencido',9:'swap_compra_pactado',10:'swap_compra_vencido',11:'repo_sustitucion'}, inplace = True)\n",
    "# Exportamos a excel\n",
    "data.to_excel('Intervención Diaria.xlsx', sheet_name='Monedas', na_rep='', float_format=None, columns=None, header=True, index=True, index_label=None, startrow=0, startcol=0, engine=None, merge_cells=True, inf_rep='inf', freeze_panes=None, storage_options=None)"
   ]
  }
 ],
 "metadata": {
  "kernelspec": {
   "display_name": "Python 3.9.12 ('base')",
   "language": "python",
   "name": "python3"
  },
  "language_info": {
   "codemirror_mode": {
    "name": "ipython",
    "version": 3
   },
   "file_extension": ".py",
   "mimetype": "text/x-python",
   "name": "python",
   "nbconvert_exporter": "python",
   "pygments_lexer": "ipython3",
   "version": "3.9.12"
  },
  "orig_nbformat": 4,
  "vscode": {
   "interpreter": {
    "hash": "e71b68cf128c73dede8b9274fb30f408286883fe1a9514ef1b06a8c5d248bb3a"
   }
  }
 },
 "nbformat": 4,
 "nbformat_minor": 2
}
